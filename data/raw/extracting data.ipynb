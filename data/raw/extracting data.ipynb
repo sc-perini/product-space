{
 "cells": [
  {
   "cell_type": "code",
   "execution_count": 1,
   "metadata": {},
   "outputs": [],
   "source": [
    "import numpy as np\n",
    "import pandas as pd\n",
    "import getTradeDataFromComtrade"
   ]
  },
  {
   "cell_type": "code",
   "execution_count": 2,
   "metadata": {},
   "outputs": [
    {
     "name": "stderr",
     "output_type": "stream",
     "text": [
      "C:\\Programas\\miniconda3\\lib\\site-packages\\urllib3\\connectionpool.py:981: InsecureRequestWarning: Unverified HTTPS request is being made to host 'comtrade.un.org'. Adding certificate verification is strongly advised. See: https://urllib3.readthedocs.io/en/latest/advanced-usage.html#ssl-warnings\n",
      "  warnings.warn(\n"
     ]
    }
   ],
   "source": [
    "comapi = getTradeDataFromComtrade.ComtradeApi()\n",
    "# prueba con un pais y un producto\n",
    "df = comapi.getComtradeData(comcodes=[\"1206\"], reporter=['32'], partner=['0'], years=[2019], freq='A', rg=['1'], fmt='json', rowmax=50000)"
   ]
  },
  {
   "cell_type": "code",
   "execution_count": 3,
   "metadata": {},
   "outputs": [
    {
     "data": {
      "text/plain": [
       "0    1206\n",
       "Name: cmdCode, dtype: object"
      ]
     },
     "execution_count": 3,
     "metadata": {},
     "output_type": "execute_result"
    }
   ],
   "source": [
    "df.cmdCode"
   ]
  },
  {
   "cell_type": "code",
   "execution_count": 6,
   "metadata": {},
   "outputs": [
    {
     "data": {
      "text/html": [
       "<div>\n",
       "<style scoped>\n",
       "    .dataframe tbody tr th:only-of-type {\n",
       "        vertical-align: middle;\n",
       "    }\n",
       "\n",
       "    .dataframe tbody tr th {\n",
       "        vertical-align: top;\n",
       "    }\n",
       "\n",
       "    .dataframe thead th {\n",
       "        text-align: right;\n",
       "    }\n",
       "</style>\n",
       "<table border=\"1\" class=\"dataframe\">\n",
       "  <thead>\n",
       "    <tr style=\"text-align: right;\">\n",
       "      <th></th>\n",
       "      <th>pfCode</th>\n",
       "      <th>yr</th>\n",
       "      <th>period</th>\n",
       "      <th>periodDesc</th>\n",
       "      <th>aggrLevel</th>\n",
       "      <th>IsLeaf</th>\n",
       "      <th>rgCode</th>\n",
       "      <th>rgDesc</th>\n",
       "      <th>rtCode</th>\n",
       "      <th>rtTitle</th>\n",
       "      <th>...</th>\n",
       "      <th>qtAltCode</th>\n",
       "      <th>qtAltDesc</th>\n",
       "      <th>TradeQuantity</th>\n",
       "      <th>AltQuantity</th>\n",
       "      <th>NetWeight</th>\n",
       "      <th>GrossWeight</th>\n",
       "      <th>TradeValue</th>\n",
       "      <th>CIFValue</th>\n",
       "      <th>FOBValue</th>\n",
       "      <th>estCode</th>\n",
       "    </tr>\n",
       "  </thead>\n",
       "  <tbody>\n",
       "    <tr>\n",
       "      <th>0</th>\n",
       "      <td>H5</td>\n",
       "      <td>2019</td>\n",
       "      <td>2019</td>\n",
       "      <td>2019</td>\n",
       "      <td>4</td>\n",
       "      <td>0</td>\n",
       "      <td>1</td>\n",
       "      <td>Import</td>\n",
       "      <td>32</td>\n",
       "      <td>Argentina</td>\n",
       "      <td>...</td>\n",
       "      <td>None</td>\n",
       "      <td></td>\n",
       "      <td>572579</td>\n",
       "      <td>None</td>\n",
       "      <td>572579</td>\n",
       "      <td>None</td>\n",
       "      <td>2077726</td>\n",
       "      <td>None</td>\n",
       "      <td>None</td>\n",
       "      <td>0</td>\n",
       "    </tr>\n",
       "  </tbody>\n",
       "</table>\n",
       "<p>1 rows × 35 columns</p>\n",
       "</div>"
      ],
      "text/plain": [
       "  pfCode    yr  period periodDesc  aggrLevel  IsLeaf  rgCode  rgDesc  rtCode  \\\n",
       "0     H5  2019    2019       2019          4       0       1  Import      32   \n",
       "\n",
       "     rtTitle  ... qtAltCode  qtAltDesc TradeQuantity AltQuantity NetWeight  \\\n",
       "0  Argentina  ...      None                   572579        None    572579   \n",
       "\n",
       "  GrossWeight TradeValue CIFValue FOBValue estCode  \n",
       "0        None    2077726     None     None       0  \n",
       "\n",
       "[1 rows x 35 columns]"
      ]
     },
     "execution_count": 6,
     "metadata": {},
     "output_type": "execute_result"
    }
   ],
   "source": [
    "df"
   ]
  },
  {
   "cell_type": "code",
   "execution_count": 7,
   "metadata": {},
   "outputs": [],
   "source": [
    "## pruebo con 2 países y 2 productos"
   ]
  },
  {
   "cell_type": "code",
   "execution_count": 43,
   "metadata": {},
   "outputs": [
    {
     "name": "stderr",
     "output_type": "stream",
     "text": [
      "C:\\Programas\\miniconda3\\lib\\site-packages\\urllib3\\connectionpool.py:981: InsecureRequestWarning: Unverified HTTPS request is being made to host 'comtrade.un.org'. Adding certificate verification is strongly advised. See: https://urllib3.readthedocs.io/en/latest/advanced-usage.html#ssl-warnings\n",
      "  warnings.warn(\n"
     ]
    }
   ],
   "source": [
    "df2 = comapi.getComtradeData(comcodes=['1206',\"1005\"], reporter=['32','28'], partner=['0'], years=[2019], freq='A', rg=['1'], fmt='json', rowmax=50000)"
   ]
  },
  {
   "cell_type": "code",
   "execution_count": 44,
   "metadata": {},
   "outputs": [
    {
     "data": {
      "text/html": [
       "<div>\n",
       "<style scoped>\n",
       "    .dataframe tbody tr th:only-of-type {\n",
       "        vertical-align: middle;\n",
       "    }\n",
       "\n",
       "    .dataframe tbody tr th {\n",
       "        vertical-align: top;\n",
       "    }\n",
       "\n",
       "    .dataframe thead th {\n",
       "        text-align: right;\n",
       "    }\n",
       "</style>\n",
       "<table border=\"1\" class=\"dataframe\">\n",
       "  <thead>\n",
       "    <tr style=\"text-align: right;\">\n",
       "      <th></th>\n",
       "      <th>pfCode</th>\n",
       "      <th>yr</th>\n",
       "      <th>period</th>\n",
       "      <th>periodDesc</th>\n",
       "      <th>aggrLevel</th>\n",
       "      <th>IsLeaf</th>\n",
       "      <th>rgCode</th>\n",
       "      <th>rgDesc</th>\n",
       "      <th>rtCode</th>\n",
       "      <th>rtTitle</th>\n",
       "      <th>...</th>\n",
       "      <th>qtAltCode</th>\n",
       "      <th>qtAltDesc</th>\n",
       "      <th>TradeQuantity</th>\n",
       "      <th>AltQuantity</th>\n",
       "      <th>NetWeight</th>\n",
       "      <th>GrossWeight</th>\n",
       "      <th>TradeValue</th>\n",
       "      <th>CIFValue</th>\n",
       "      <th>FOBValue</th>\n",
       "      <th>estCode</th>\n",
       "    </tr>\n",
       "  </thead>\n",
       "  <tbody>\n",
       "    <tr>\n",
       "      <th>0</th>\n",
       "      <td>H5</td>\n",
       "      <td>2019</td>\n",
       "      <td>2019</td>\n",
       "      <td>2019</td>\n",
       "      <td>4</td>\n",
       "      <td>0</td>\n",
       "      <td>1</td>\n",
       "      <td>Import</td>\n",
       "      <td>32</td>\n",
       "      <td>Argentina</td>\n",
       "      <td>...</td>\n",
       "      <td>None</td>\n",
       "      <td></td>\n",
       "      <td>5140768</td>\n",
       "      <td>None</td>\n",
       "      <td>5140768</td>\n",
       "      <td>None</td>\n",
       "      <td>19504599</td>\n",
       "      <td>None</td>\n",
       "      <td>None</td>\n",
       "      <td>0</td>\n",
       "    </tr>\n",
       "    <tr>\n",
       "      <th>1</th>\n",
       "      <td>H5</td>\n",
       "      <td>2019</td>\n",
       "      <td>2019</td>\n",
       "      <td>2019</td>\n",
       "      <td>4</td>\n",
       "      <td>0</td>\n",
       "      <td>1</td>\n",
       "      <td>Import</td>\n",
       "      <td>32</td>\n",
       "      <td>Argentina</td>\n",
       "      <td>...</td>\n",
       "      <td>None</td>\n",
       "      <td></td>\n",
       "      <td>572579</td>\n",
       "      <td>None</td>\n",
       "      <td>572579</td>\n",
       "      <td>None</td>\n",
       "      <td>2077726</td>\n",
       "      <td>None</td>\n",
       "      <td>None</td>\n",
       "      <td>0</td>\n",
       "    </tr>\n",
       "    <tr>\n",
       "      <th>2</th>\n",
       "      <td>H3</td>\n",
       "      <td>2019</td>\n",
       "      <td>2019</td>\n",
       "      <td>2019</td>\n",
       "      <td>4</td>\n",
       "      <td>0</td>\n",
       "      <td>1</td>\n",
       "      <td>Import</td>\n",
       "      <td>28</td>\n",
       "      <td>Antigua and Barbuda</td>\n",
       "      <td>...</td>\n",
       "      <td>None</td>\n",
       "      <td></td>\n",
       "      <td>55166</td>\n",
       "      <td>None</td>\n",
       "      <td>55166</td>\n",
       "      <td>None</td>\n",
       "      <td>102116</td>\n",
       "      <td>None</td>\n",
       "      <td>None</td>\n",
       "      <td>0</td>\n",
       "    </tr>\n",
       "    <tr>\n",
       "      <th>3</th>\n",
       "      <td>H3</td>\n",
       "      <td>2019</td>\n",
       "      <td>2019</td>\n",
       "      <td>2019</td>\n",
       "      <td>4</td>\n",
       "      <td>0</td>\n",
       "      <td>1</td>\n",
       "      <td>Import</td>\n",
       "      <td>28</td>\n",
       "      <td>Antigua and Barbuda</td>\n",
       "      <td>...</td>\n",
       "      <td>None</td>\n",
       "      <td></td>\n",
       "      <td>5204</td>\n",
       "      <td>None</td>\n",
       "      <td>5204</td>\n",
       "      <td>None</td>\n",
       "      <td>13900</td>\n",
       "      <td>None</td>\n",
       "      <td>None</td>\n",
       "      <td>0</td>\n",
       "    </tr>\n",
       "  </tbody>\n",
       "</table>\n",
       "<p>4 rows × 35 columns</p>\n",
       "</div>"
      ],
      "text/plain": [
       "  pfCode    yr  period periodDesc  aggrLevel  IsLeaf  rgCode  rgDesc  rtCode  \\\n",
       "0     H5  2019    2019       2019          4       0       1  Import      32   \n",
       "1     H5  2019    2019       2019          4       0       1  Import      32   \n",
       "2     H3  2019    2019       2019          4       0       1  Import      28   \n",
       "3     H3  2019    2019       2019          4       0       1  Import      28   \n",
       "\n",
       "               rtTitle  ... qtAltCode  qtAltDesc TradeQuantity AltQuantity  \\\n",
       "0            Argentina  ...      None                  5140768        None   \n",
       "1            Argentina  ...      None                   572579        None   \n",
       "2  Antigua and Barbuda  ...      None                    55166        None   \n",
       "3  Antigua and Barbuda  ...      None                     5204        None   \n",
       "\n",
       "  NetWeight GrossWeight TradeValue CIFValue FOBValue estCode  \n",
       "0   5140768        None   19504599     None     None       0  \n",
       "1    572579        None    2077726     None     None       0  \n",
       "2     55166        None     102116     None     None       0  \n",
       "3      5204        None      13900     None     None       0  \n",
       "\n",
       "[4 rows x 35 columns]"
      ]
     },
     "execution_count": 44,
     "metadata": {},
     "output_type": "execute_result"
    }
   ],
   "source": [
    "df2"
   ]
  },
  {
   "cell_type": "code",
   "execution_count": 17,
   "metadata": {},
   "outputs": [
    {
     "ename": "SyntaxError",
     "evalue": "'return' outside function (<ipython-input-17-e5b5ddbb00d0>, line 9)",
     "output_type": "error",
     "traceback": [
      "\u001b[1;36m  File \u001b[1;32m\"<ipython-input-17-e5b5ddbb00d0>\"\u001b[1;36m, line \u001b[1;32m9\u001b[0m\n\u001b[1;33m    return list\u001b[0m\n\u001b[1;37m    ^\u001b[0m\n\u001b[1;31mSyntaxError\u001b[0m\u001b[1;31m:\u001b[0m 'return' outside function\n"
     ]
    }
   ],
   "source": [
    "prod = range(0,1000,1)\n",
    "list = []\n",
    "for item in prod:\n",
    "    try:\n",
    "        data_prod = comapi.getComtradeData(comcodes=item, reporter=['32'], partner=['0'], years=[2019], freq='A', rg=['1'], fmt='json', rowmax=50000)\n",
    "    except:\n",
    "        continue\n",
    "    list.append(data_prod)    \n",
    "return list   "
   ]
  },
  {
   "cell_type": "code",
   "execution_count": 25,
   "metadata": {},
   "outputs": [
    {
     "name": "stderr",
     "output_type": "stream",
     "text": [
      "C:\\Programas\\miniconda3\\lib\\site-packages\\urllib3\\connectionpool.py:981: InsecureRequestWarning: Unverified HTTPS request is being made to host 'comtrade.un.org'. Adding certificate verification is strongly advised. See: https://urllib3.readthedocs.io/en/latest/advanced-usage.html#ssl-warnings\n",
      "  warnings.warn(\n",
      "C:\\Programas\\miniconda3\\lib\\site-packages\\urllib3\\connectionpool.py:981: InsecureRequestWarning: Unverified HTTPS request is being made to host 'comtrade.un.org'. Adding certificate verification is strongly advised. See: https://urllib3.readthedocs.io/en/latest/advanced-usage.html#ssl-warnings\n",
      "  warnings.warn(\n",
      "C:\\Programas\\miniconda3\\lib\\site-packages\\urllib3\\connectionpool.py:981: InsecureRequestWarning: Unverified HTTPS request is being made to host 'comtrade.un.org'. Adding certificate verification is strongly advised. See: https://urllib3.readthedocs.io/en/latest/advanced-usage.html#ssl-warnings\n",
      "  warnings.warn(\n"
     ]
    }
   ],
   "source": [
    "list = []\n",
    "for item in ['0101', '0409', '1005']:\n",
    "    data_prod = comapi.getComtradeData(comcodes=item, reporter=['32'], partner=['0'], years=[2019], freq='A', rg=['2'], fmt='json', rowmax=50000)\n",
    "    list.append(data_prod)       "
   ]
  },
  {
   "cell_type": "code",
   "execution_count": 26,
   "metadata": {},
   "outputs": [
    {
     "data": {
      "text/plain": [
       "[Empty DataFrame\n",
       " Columns: []\n",
       " Index: [],\n",
       " Empty DataFrame\n",
       " Columns: []\n",
       " Index: [],\n",
       " Empty DataFrame\n",
       " Columns: []\n",
       " Index: []]"
      ]
     },
     "execution_count": 26,
     "metadata": {},
     "output_type": "execute_result"
    }
   ],
   "source": [
    "list"
   ]
  }
 ],
 "metadata": {
  "kernelspec": {
   "display_name": "Python 3",
   "language": "python",
   "name": "python3"
  },
  "language_info": {
   "codemirror_mode": {
    "name": "ipython",
    "version": 3
   },
   "file_extension": ".py",
   "mimetype": "text/x-python",
   "name": "python",
   "nbconvert_exporter": "python",
   "pygments_lexer": "ipython3",
   "version": "3.8.5"
  }
 },
 "nbformat": 4,
 "nbformat_minor": 4
}
