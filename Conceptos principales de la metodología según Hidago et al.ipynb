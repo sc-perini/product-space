{
 "cells": [
  {
   "cell_type": "markdown",
   "metadata": {},
   "source": [
    "## Medida de proximidad\n",
    "\n",
    "* Se mide la proximidad utilizando un método basado en resultados, en particular, basado en la suposición de que es más probable que productos similares se exporten en conjunto. \n",
    "\n",
    "* Para eso se requiere una medida estricta de las exportaciones. Se excluyen exportaciones marginales a través de la selección de exportaciones con Ventajas Comparativas Reveladas (VCR). Hidalgo et al (2007) usan la definición de Balassa (1986) de VCR.\n",
    "\n",
    "### Cálculo de VCR "
   ]
  },
  {
   "cell_type": "markdown",
   "metadata": {},
   "source": [
    "$ VCR_{ij} = \\frac{ \\frac{X_{ci}}{X_c} }{ \\frac{X_{wi}}{X_w} } $ \n",
    "\n",
    "Donde $X_{ci}$ son las exportaciones del producto i del país c, mientras que $X_c$ son las exportaciones totales del país c. En el denominador se encuentran los análogos del resto del mundo (w)."
   ]
  },
  {
   "cell_type": "markdown",
   "metadata": {},
   "source": [
    "VCR(c,i) > 1 cuando la participación de las exportaciones de un país en un producto dado es mayor que la participación de ese producto en el comercio mundial. Esta definición de VCR permite establecer un **umbral para la exportación de un país**. Cuando **VCR >= 1** se considera que el país c exporta el producto i, y cuando VCR(c, i) < 1 ese país no es un exportador de ese producto. \n",
    "\n",
    "Entonces se define la proximidad entre los bienes i y j como: \n",
    "\n",
    "$ \\phi_{ij} = \\min {P(VCR_i|VCR_j), P(VCR_j|VCR_i)} $\n",
    "\n",
    "donde $P(VCR_i|VCR_j)$ es la probabilidad condicional de exportar el bien i dado que se exporta el bien j (y viceversa). Según los autores al considerar el mínimo entre ambas probabilidades condicionales se resuelve el problema de que en el caso de que un país sea el único exportador de un bien en particular la probabilidad condicional de exportar cualquier otro bien dado ese sería igual a uno para todos los demás bienes exportados por ese país, y asimismo, se logra una matriz de proximidad simétrica."
   ]
  },
  {
   "cell_type": "markdown",
   "metadata": {},
   "source": [
    "## Datos de Comercio\n",
    "\n",
    "En el paper original se usan productos desagregados según la SITC revisión 4 a nivel de cuatro dígitos, de la base de datos de UNCOMTRADE. En este caso se utilizarán datos de WITS correspondientes al sistema armonizado (HS) a 4 dígitos. "
   ]
  },
  {
   "cell_type": "code",
   "execution_count": null,
   "metadata": {},
   "outputs": [],
   "source": []
  }
 ],
 "metadata": {
  "kernelspec": {
   "display_name": "Python 3",
   "language": "python",
   "name": "python3"
  },
  "language_info": {
   "codemirror_mode": {
    "name": "ipython",
    "version": 3
   },
   "file_extension": ".py",
   "mimetype": "text/x-python",
   "name": "python",
   "nbconvert_exporter": "python",
   "pygments_lexer": "ipython3",
   "version": "3.8.5"
  }
 },
 "nbformat": 4,
 "nbformat_minor": 4
}
